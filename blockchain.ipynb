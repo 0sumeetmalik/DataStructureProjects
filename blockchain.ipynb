{
 "cells": [
  {
   "cell_type": "code",
   "execution_count": 58,
   "metadata": {
    "collapsed": true
   },
   "outputs": [],
   "source": [
    "import hashlib\n",
    "from datetime import datetime\n"
   ]
  },
  {
   "cell_type": "code",
   "execution_count": 94,
   "outputs": [],
   "source": [
    "class Block:\n",
    "\n",
    "      def __init__(self, data, previous_hash):\n",
    "            self.timestamp = datetime.now()\n",
    "            self.data = data\n",
    "            if previous_hash is None:\n",
    "                  self.previous_hash = 0\n",
    "            else:\n",
    "                  self.previous_hash = previous_hash\n",
    "            self.hash = self.calc_hash(data)\n",
    "            self.next = None\n",
    "\n",
    "      def calc_hash(self, data):\n",
    "            sha = hashlib.sha256()\n",
    "            hash_str = data.encode('utf-8')\n",
    "            sha.update(hash_str)\n",
    "\n",
    "            return sha.hexdigest()\n"
   ],
   "metadata": {
    "collapsed": false
   }
  },
  {
   "cell_type": "code",
   "execution_count": 95,
   "outputs": [],
   "source": [
    "class LinkedList:\n",
    "\n",
    "      def __init__(self):\n",
    "            self.head = None  # Keep Track of head of chain\n",
    "             # Tracking next block\n",
    "            self.tail = None  # Keep Track of last Item in Chain\n",
    "\n",
    "      def add_block(self, data, previous_hash = None):\n",
    "            # Creating block of Data for chain\n",
    "            block = Block(data, previous_hash)\n",
    "\n",
    "            if self.head is None:\n",
    "                  self.head = block\n",
    "                  self.tail = self.head\n",
    "                  return\n",
    "\n",
    "            current_node = self.head\n",
    "            while current_node:\n",
    "                  current_node = current_node.next\n",
    "\n",
    "            current_node = block\n",
    "            self.tail = current_node\n",
    "            return\n",
    "\n",
    "      def get_previous_hash(self):\n",
    "            return self.tail.hash\n"
   ],
   "metadata": {
    "collapsed": false
   }
  },
  {
   "cell_type": "code",
   "execution_count": 96,
   "outputs": [
    {
     "name": "stdout",
     "output_type": "stream",
     "text": [
      "<__main__.LinkedList object at 0x1043b1b90>\n",
      "<__main__.Block object at 0x1038edb90>\n"
     ]
    }
   ],
   "source": [
    "blockchain = LinkedList()\n",
    "print(blockchain)\n",
    "blockchain.add_block('Some Information on Block 0')\n",
    "print(blockchain.head)"
   ],
   "metadata": {
    "collapsed": false
   }
  },
  {
   "cell_type": "code",
   "execution_count": 97,
   "outputs": [],
   "source": [
    "blockchain.add_block('Some Information on Block 2', blockchain.get_previous_hash())"
   ],
   "metadata": {
    "collapsed": false
   }
  },
  {
   "cell_type": "code",
   "execution_count": 98,
   "outputs": [
    {
     "name": "stdout",
     "output_type": "stream",
     "text": [
      "Some Information on Block 0\n",
      "Some Information on Block 2\n",
      "a3fcc923dddab20813e41a8f4ae5bc6c8cd9eee99b95fd29387bf0dbfc55f473\n"
     ]
    }
   ],
   "source": [
    "print(blockchain.head.data)\n",
    "print(blockchain.tail.data)\n",
    "print(blockchain.get_previous_hash())"
   ],
   "metadata": {
    "collapsed": false
   }
  },
  {
   "cell_type": "code",
   "execution_count": 99,
   "outputs": [],
   "source": [
    "blockchain.add_block('Some Information on Block 1', blockchain.get_previous_hash())"
   ],
   "metadata": {
    "collapsed": false
   }
  },
  {
   "cell_type": "code",
   "execution_count": 100,
   "outputs": [
    {
     "name": "stdout",
     "output_type": "stream",
     "text": [
      "Some Information on Block 0\n",
      "Some Information on Block 1\n",
      "168e6b792ad547a8d3424cb66b6275a53472a31a0f54cf93c0699ad62f356d0b\n"
     ]
    }
   ],
   "source": [
    "print(blockchain.head.data)\n",
    "print(blockchain.tail.data)\n",
    "print(blockchain.get_previous_hash())"
   ],
   "metadata": {
    "collapsed": false
   }
  },
  {
   "cell_type": "code",
   "execution_count": 101,
   "outputs": [],
   "source": [
    "blockchain.add_block('Some Information on Block 4', blockchain.get_previous_hash())"
   ],
   "metadata": {
    "collapsed": false
   }
  },
  {
   "cell_type": "code",
   "execution_count": 102,
   "outputs": [
    {
     "name": "stdout",
     "output_type": "stream",
     "text": [
      "Some Information on Block 0\n",
      "Some Information on Block 4\n",
      "af7348ef5eea077fc893af0bc37451e4c8104526411a4201141b64afa4719c43\n"
     ]
    }
   ],
   "source": [
    "print(blockchain.head.data)\n",
    "print(blockchain.tail.data)\n",
    "print(blockchain.get_previous_hash())"
   ],
   "metadata": {
    "collapsed": false
   }
  },
  {
   "cell_type": "code",
   "execution_count": null,
   "outputs": [],
   "source": [],
   "metadata": {
    "collapsed": false
   }
  }
 ],
 "metadata": {
  "kernelspec": {
   "display_name": "Python 3",
   "language": "python",
   "name": "python3"
  },
  "language_info": {
   "codemirror_mode": {
    "name": "ipython",
    "version": 2
   },
   "file_extension": ".py",
   "mimetype": "text/x-python",
   "name": "python",
   "nbconvert_exporter": "python",
   "pygments_lexer": "ipython2",
   "version": "2.7.6"
  }
 },
 "nbformat": 4,
 "nbformat_minor": 0
}
