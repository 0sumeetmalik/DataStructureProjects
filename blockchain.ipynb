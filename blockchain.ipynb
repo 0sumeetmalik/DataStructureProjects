{
 "cells": [
  {
   "cell_type": "code",
   "execution_count": 3,
   "metadata": {
    "collapsed": true
   },
   "outputs": [
    {
     "name": "stdout",
     "output_type": "stream",
     "text": [
      " The available algorithms are : {'blake2b', 'sha1', 'shake_128', 'sha3_256', 'shake_256', 'sha224', 'blake2s', 'sha3_224', 'sha256', 'sha3_512', 'md5', 'sha384', 'sha3_384', 'sha512'}\n"
     ]
    }
   ],
   "source": [
    "import hashlib\n",
    "\n",
    "print(\" The available algorithms are : \", end=\"\")\n",
    "print(hashlib.algorithms_guaranteed)"
   ]
  },
  {
   "cell_type": "code",
   "execution_count": 5,
   "outputs": [
    {
     "name": "stdout",
     "output_type": "stream",
     "text": [
      "3d1530b992f8da3779ad223d95a49ef1c26f310445c2c04e7aeda9e858f00041\n"
     ]
    }
   ],
   "source": [
    "str = 'sumeetmalik'\n",
    "result = hashlib.sha256(str.encode())\n",
    "print(result.hexdigest())"
   ],
   "metadata": {
    "collapsed": false
   }
  },
  {
   "cell_type": "code",
   "execution_count": 14,
   "outputs": [],
   "source": [
    "import hashlib\n",
    "\n",
    "def calc_hash():\n",
    "      sha = hashlib.sha256()\n",
    "\n",
    "      hash_str = \"We are going to encode this string of data!\".encode('utf-8')\n",
    "\n",
    "      sha.update(hash_str)\n",
    "\n",
    "      return sha.hexdigest()"
   ],
   "metadata": {
    "collapsed": false
   }
  },
  {
   "cell_type": "code",
   "execution_count": 15,
   "outputs": [
    {
     "name": "stdout",
     "output_type": "stream",
     "text": [
      "a20200a94c75010576e2d6a83e6fa69271901a9d805894b28bd91e6054fbfd10\n"
     ]
    }
   ],
   "source": [
    "h = calc_hash()\n",
    "print(h)"
   ],
   "metadata": {
    "collapsed": false
   }
  },
  {
   "cell_type": "code",
   "execution_count": null,
   "outputs": [],
   "source": [],
   "metadata": {
    "collapsed": false,
    "pycharm": {
     "is_executing": true
    }
   }
  },
  {
   "cell_type": "code",
   "execution_count": 13,
   "outputs": [],
   "source": [],
   "metadata": {
    "collapsed": false
   }
  }
 ],
 "metadata": {
  "kernelspec": {
   "display_name": "Python 3",
   "language": "python",
   "name": "python3"
  },
  "language_info": {
   "codemirror_mode": {
    "name": "ipython",
    "version": 2
   },
   "file_extension": ".py",
   "mimetype": "text/x-python",
   "name": "python",
   "nbconvert_exporter": "python",
   "pygments_lexer": "ipython2",
   "version": "2.7.6"
  }
 },
 "nbformat": 4,
 "nbformat_minor": 0
}
